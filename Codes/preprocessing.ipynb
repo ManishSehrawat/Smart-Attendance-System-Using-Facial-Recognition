{
 "cells": [
  {
   "cell_type": "markdown",
   "metadata": {},
   "source": [
    "<center><font color='red'><font size=6>SMART ATTENDANCE SYSTEM</font></center> "
   ]
  },
  {
   "cell_type": "code",
   "execution_count": 2,
   "metadata": {},
   "outputs": [],
   "source": [
    "import cv2\n",
    "import numpy as np\n",
    "import matplotlib.pyplot as plt\n",
    "import os\n",
    "from PIL import Image\n",
    "from sklearn.preprocessing import LabelEncoder"
   ]
  },
  {
   "cell_type": "code",
   "execution_count": 4,
   "metadata": {},
   "outputs": [],
   "source": [
    "img = cv2.imread(\"unprocessed\\\\lakshita\\\\2.jpg\",-1)"
   ]
  },
  {
   "cell_type": "code",
   "execution_count": 5,
   "metadata": {},
   "outputs": [
    {
     "data": {
      "image/png": "[encoded data removed]",
      "text/plain": [
       "<Figure size 432x288 with 1 Axes>"
      ]
     },
     "metadata": {
      "needs_background": "light"
     },
     "output_type": "display_data"
    }
   ],
   "source": [
    "plt.hist(img.flatten(), 256, range=(0, 255), fc='k', ec='k');"
   ]
  },
  {
   "cell_type": "code",
   "execution_count": 6,
   "metadata": {},
   "outputs": [],
   "source": [
    "cv2.imshow(\"cropped face\", img)\n",
    "cv2.waitKey(0)\n",
    "cv2.destroyAllWindows()"
   ]
  },
  {
   "cell_type": "markdown",
   "metadata": {},
   "source": [
    "<font color='red'><font size=6>Preprocessing</font>"
   ]
  },
  {
   "cell_type": "markdown",
   "metadata": {},
   "source": [
    "# - First contrast stretching then denoising"
   ]
  },
  {
   "cell_type": "code",
   "execution_count": 7,
   "metadata": {},
   "outputs": [],
   "source": [
    "maxi = np.amax(img)\n",
    "mini = np.amin(img)\n",
    "intensity_range = maxi - mini"
   ]
  },
  {
   "cell_type": "code",
   "execution_count": 8,
   "metadata": {},
   "outputs": [
    {
     "data": {
      "text/plain": [
       "160"
      ]
     },
     "execution_count": 8,
     "metadata": {},
     "output_type": "execute_result"
    }
   ],
   "source": [
    "intensity_range"
   ]
  },
  {
   "cell_type": "code",
   "execution_count": 9,
   "metadata": {},
   "outputs": [],
   "source": [
    "frst_stretch = ((img.astype('float64') - mini) * 255 / intensity_range).astype('uint8')"
   ]
  },
  {
   "cell_type": "code",
   "execution_count": 10,
   "metadata": {},
   "outputs": [],
   "source": [
    "smoothened = cv2.fastNlMeansDenoising(frst_stretch,None,10,21,7)"
   ]
  },
  {
   "cell_type": "code",
   "execution_count": 11,
   "metadata": {},
   "outputs": [
    {
     "data": {
      "image/png": "[encoded data removed]",
      "text/plain": [
       "<Figure size 432x288 with 1 Axes>"
      ]
     },
     "metadata": {
      "needs_background": "light"
     },
     "output_type": "display_data"
    }
   ],
   "source": [
    "plt.hist(smoothened.flatten(), 256, range=(0, 255), fc='k', ec='k');"
   ]
  },
  {
   "cell_type": "code",
   "execution_count": 12,
   "metadata": {},
   "outputs": [],
   "source": [
    "cv2.imshow(\"cropped face\", smoothened)\n",
    "cv2.waitKey(0)\n",
    "cv2.destroyAllWindows()"
   ]
  },
  {
   "cell_type": "markdown",
   "metadata": {},
   "source": [
    "# - First denoising then contrast stretching"
   ]
  },
  {
   "cell_type": "code",
   "execution_count": 14,
   "metadata": {},
   "outputs": [],
   "source": [
    "first_denoise = cv2.fastNlMeansDenoising(img,None,10,21,7)"
   ]
  },
  {
   "cell_type": "code",
   "execution_count": 15,
   "metadata": {},
   "outputs": [],
   "source": [
    "maxi = np.amax(first_denoise)\n",
    "mini = np.amin(first_denoise)\n",
    "intensity_range = maxi - mini"
   ]
  },
  {
   "cell_type": "code",
   "execution_count": 16,
   "metadata": {},
   "outputs": [
    {
     "data": {
      "text/plain": [
       "154"
      ]
     },
     "execution_count": 16,
     "metadata": {},
     "output_type": "execute_result"
    }
   ],
   "source": [
    "intensity_range"
   ]
  },
  {
   "cell_type": "code",
   "execution_count": 17,
   "metadata": {},
   "outputs": [],
   "source": [
    "stretched = ((first_denoise.astype('float64') - mini) * 255 / intensity_range).astype('uint8')"
   ]
  },
  {
   "cell_type": "code",
   "execution_count": 18,
   "metadata": {},
   "outputs": [
    {
     "data": {
      "image/png": "[encoded data removed]",
      "text/plain": [
       "<Figure size 432x288 with 1 Axes>"
      ]
     },
     "metadata": {
      "needs_background": "light"
     },
     "output_type": "display_data"
    }
   ],
   "source": [
    "plt.hist(stretched.flatten(), 256, range=(0, 255), fc='k', ec='k');"
   ]
  },
  {
   "cell_type": "code",
   "execution_count": 19,
   "metadata": {},
   "outputs": [],
   "source": [
    "cv2.imshow(\"cropped face\", stretched)\n",
    "cv2.waitKey(0)\n",
    "cv2.destroyAllWindows()"
   ]
  },
  {
   "cell_type": "markdown",
   "metadata": {},
   "source": [
    "<font color='red'><font size=6>Comparison of accuracy obtained with and without preprocessing</font>"
   ]
  },
  {
   "cell_type": "markdown",
   "metadata": {},
   "source": [
    "# - Without preprocessing"
   ]
  },
  {
   "cell_type": "code",
   "execution_count": 373,
   "metadata": {},
   "outputs": [],
   "source": [
    "directory = (\"images1\")\n",
    "path = [os.path.join(directory,file)+\"\\\\\" for file in os.listdir(directory)]\n",
    "faces=[]\n",
    "ids = []\n",
    "for roll in path[0:]:\n",
    "    for image in os.listdir(roll):\n",
    "        img_path = os.path.join(roll, image)\n",
    "        img = Image.open(img_path).convert('L')\n",
    "        img_arr = np.array(img, 'uint8')\n",
    "        id = str(os.path.split(os.path.split(roll)[0])[1])\n",
    "        faces.append(img_arr)\n",
    "        ids.append(id)\n",
    "        cv2.imshow(\"Training\",img_arr)\n",
    "        cv2.waitKey(1)==13\n",
    "label_encoder = LabelEncoder()\n",
    "ids = label_encoder.fit_transform(ids)\n",
    "np.save('classes.npy', label_encoder.classes_)\n",
    "ids=np.array(ids)\n",
    "cv2.destroyAllWindows()"
   ]
  },
  {
   "cell_type": "code",
   "execution_count": 374,
   "metadata": {},
   "outputs": [],
   "source": [
    "from sklearn.model_selection import train_test_split"
   ]
  },
  {
   "cell_type": "code",
   "execution_count": 375,
   "metadata": {},
   "outputs": [],
   "source": [
    "X_train, X_test, y_train, y_test = train_test_split(faces,ids, test_size=0.25, random_state=42)"
   ]
  },
  {
   "cell_type": "code",
   "execution_count": 376,
   "metadata": {},
   "outputs": [],
   "source": [
    "model = cv2.face.LBPHFaceRecognizer_create()"
   ]
  },
  {
   "cell_type": "code",
   "execution_count": 377,
   "metadata": {},
   "outputs": [],
   "source": [
    "model.train(X_train,y_train)"
   ]
  },
  {
   "cell_type": "code",
   "execution_count": 378,
   "metadata": {},
   "outputs": [],
   "source": [
    "from time import sleep\n",
    "from tqdm import tqdm"
   ]
  },
  {
   "cell_type": "code",
   "execution_count": 379,
   "metadata": {},
   "outputs": [],
   "source": [
    "from sklearn.metrics import accuracy_score"
   ]
  },
  {
   "cell_type": "code",
   "execution_count": 380,
   "metadata": {},
   "outputs": [
    {
     "name": "stderr",
     "output_type": "stream",
     "text": [
      "100%|██████████| 216/216 [00:09<00:00, 22.69it/s]\n"
     ]
    }
   ],
   "source": [
    "y_predict = []\n",
    "rolls = []\n",
    "for i in tqdm(range(0,len(y_test))):\n",
    "    roll,pred = model.predict(X_test[i])\n",
    "    pred = float(100*(1-pred/300))\n",
    "    y_predict.append(pred)\n",
    "    rolls.append(roll)"
   ]
  },
  {
   "cell_type": "code",
   "execution_count": 347,
   "metadata": {},
   "outputs": [
    {
     "data": {
      "text/plain": [
       "96.67204150320694"
      ]
     },
     "execution_count": 347,
     "metadata": {},
     "output_type": "execute_result"
    }
   ],
   "source": [
    "sum = 0\n",
    "for i in range(0,len(y_predict)):\n",
    "    sum = sum + y_predict[i]\n",
    "sum/len(y_predict)"
   ]
  },
  {
   "cell_type": "code",
   "execution_count": 372,
   "metadata": {},
   "outputs": [
    {
     "data": {
      "text/plain": [
       "0.9490740740740741"
      ]
     },
     "execution_count": 372,
     "metadata": {},
     "output_type": "execute_result"
    }
   ],
   "source": [
    "accuracy_score(rolls,y_test)"
   ]
  },
  {
   "cell_type": "markdown",
   "metadata": {},
   "source": [
    "# - With preprocessing"
   ]
  },
  {
   "cell_type": "code",
   "execution_count": 350,
   "metadata": {},
   "outputs": [],
   "source": [
    "directory = (\"images1\")\n",
    "path = [os.path.join(directory,file)+\"\\\\\" for file in os.listdir(directory)]\n",
    "faces=[]\n",
    "ids = []\n",
    "for roll in path[0:]:\n",
    "    for image in os.listdir(roll):\n",
    "        img_path = os.path.join(roll, image)\n",
    "        img = Image.open(img_path).convert('L')\n",
    "        img_arr = np.array(img, 'uint8')\n",
    "        img_arr = cv2.fastNlMeansDenoising(img_arr,None,5,21,7)\n",
    "        maxi = np.amax(img_arr)\n",
    "        mini = np.amin(img_arr)\n",
    "        intensity_range = maxi - mini\n",
    "        img_arr = ((img_arr.astype('float64') - mini) * 255 / intensity_range).astype('uint8')\n",
    "        id = str(os.path.split(os.path.split(roll)[0])[1])\n",
    "        faces.append(img_arr)\n",
    "        ids.append(id)\n",
    "        cv2.imshow(\"Training\",img_arr)\n",
    "        cv2.waitKey(1)==13\n",
    "label_encoder = LabelEncoder()\n",
    "ids = label_encoder.fit_transform(ids)\n",
    "np.save('classes.npy', label_encoder.classes_)\n",
    "ids=np.array(ids)\n",
    "cv2.destroyAllWindows()"
   ]
  },
  {
   "cell_type": "code",
   "execution_count": 366,
   "metadata": {},
   "outputs": [],
   "source": [
    "X_train, X_test, y_train, y_test = train_test_split(faces,ids, test_size=0.25, random_state=42)"
   ]
  },
  {
   "cell_type": "code",
   "execution_count": 367,
   "metadata": {},
   "outputs": [],
   "source": [
    "model = cv2.face.LBPHFaceRecognizer_create()"
   ]
  },
  {
   "cell_type": "code",
   "execution_count": 368,
   "metadata": {},
   "outputs": [],
   "source": [
    "model.train(X_train,y_train)"
   ]
  },
  {
   "cell_type": "code",
   "execution_count": 369,
   "metadata": {},
   "outputs": [],
   "source": [
    "roll,predict = model.predict(X_test[0])"
   ]
  },
  {
   "cell_type": "code",
   "execution_count": 370,
   "metadata": {},
   "outputs": [
    {
     "name": "stderr",
     "output_type": "stream",
     "text": [
      "100%|██████████| 216/216 [00:08<00:00, 25.59it/s]\n"
     ]
    }
   ],
   "source": [
    "y_predict = []\n",
    "rolls = []\n",
    "for i in tqdm(range(0,len(y_test))):\n",
    "    roll,pred = model.predict(X_test[i])\n",
    "    pred = float(100*(1-pred/300))\n",
    "    y_predict.append(pred)\n",
    "    rolls.append(roll)"
   ]
  },
  {
   "cell_type": "code",
   "execution_count": 381,
   "metadata": {},
   "outputs": [
    {
     "data": {
      "text/plain": [
       "96.78452224319827"
      ]
     },
     "execution_count": 381,
     "metadata": {},
     "output_type": "execute_result"
    }
   ],
   "source": [
    "sum = 0\n",
    "for i in range(0,len(y_predict)):\n",
    "    sum = sum + y_predict[i]\n",
    "sum/len(y_predict)"
   ]
  },
  {
   "cell_type": "code",
   "execution_count": 382,
   "metadata": {},
   "outputs": [
    {
     "data": {
      "text/plain": [
       "0.9537037037037037"
      ]
     },
     "execution_count": 382,
     "metadata": {},
     "output_type": "execute_result"
    }
   ],
   "source": [
    "accuracy_score(rolls,y_test)"
   ]
  },
  {
   "cell_type": "markdown",
   "metadata": {},
   "source": [
    "## accuracy Improved !!"
   ]
  }
 ],
 "metadata": {
  "kernelspec": {
   "display_name": "Python 3",
   "language": "python",
   "name": "python3"
  },
  "language_info": {
   "codemirror_mode": {
    "name": "ipython",
    "version": 3
   },
   "file_extension": ".py",
   "mimetype": "text/x-python",
   "name": "python",
   "nbconvert_exporter": "python",
   "pygments_lexer": "ipython3",
   "version": "3.8.5"
  }
 },
 "nbformat": 4,
 "nbformat_minor": 5
}
